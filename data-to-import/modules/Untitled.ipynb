{
 "cells": [
  {
   "cell_type": "code",
   "execution_count": 1,
   "id": "443d5adb-3008-4191-89f8-c2c19a34ad53",
   "metadata": {},
   "outputs": [],
   "source": [
    "import pandas as pd\n",
    "df = pd.read_csv('../files/Stuff.csv', encoding='utf-8')\n",
    "product_id = pd.read_csv('../files/product_id.csv', encoding='utf-8')\n",
    "num_to_words = {\n",
    "    1: '1',\n",
    "    2: '2',\n",
    "    3: '3',\n",
    "    4: '4',\n",
    "    5: '5',\n",
    "    6: '6',\n",
    "    7: '7',\n",
    "    8: '8',\n",
    "    9: '9',\n",
    "    0: '0',\n",
    "    '-': '-',\n",
    "    '+': '+',\n",
    "    '.': '__',\n",
    "}"
   ]
  },
  {
   "cell_type": "code",
   "execution_count": 2,
   "id": "c4e46f9d-947f-4d2c-a1e2-cbe24d893e3a",
   "metadata": {},
   "outputs": [],
   "source": [
    "def extract_data(num):\n",
    "    code = num // 10000000000\n",
    "    rest = num % 10000000000\n",
    "\n",
    "    sph_sign = '-' if rest // 1000000000 == 0 else '+'\n",
    "    rest = rest % 1000000000\n",
    "\n",
    "    sph = (rest // 100000)/100\n",
    "    rest = rest % 100000\n",
    "\n",
    "    cyl_sign = '-' if rest // 10000 == 0 else '+'\n",
    "    rest = rest % 10000\n",
    "\n",
    "    cyl = rest/100\n",
    "\n",
    "    return code, sph_sign,sph,cyl_sign,cyl\n",
    "\n",
    "# Apply the function to 'StuffCode' and expand the result into two columns\n",
    "df[['code', 'sph_sign','sph','cyl_sign','cyl']] = pd.DataFrame(df['StuffCode'].apply(extract_data).tolist(), index=df.index)"
   ]
  },
  {
   "cell_type": "code",
   "execution_count": 3,
   "id": "5fb987ba-d37e-43ec-8726-3617c3259ace",
   "metadata": {},
   "outputs": [],
   "source": [
    "# Convert sph_sign, sph, cyl_sign, cyl using num_to_words dictionary\n",
    "def convert_to_words(prefix, sign, value):\n",
    "    # Convert both sign and value to their respective string representations\n",
    "    sign_str = num_to_words.get(sign, sign)\n",
    "    value_str = ''.join([num_to_words.get(char, char) for char in str(abs(value)) if char in '0123456789.'])\n",
    "    # Prepend the prefix to the result\n",
    "    return f\"{prefix}_{sign_str}_{value_str}\"\n",
    "\n",
    "# Apply the function to create 'sphere' and 'cylinder' columns\n",
    "df['sphere'] = df.apply(lambda x: convert_to_words(\"sph\", x['sph_sign'], x['sph']), axis=1)\n",
    "df['cylinder'] = df.apply(lambda x: convert_to_words(\"cyl\", x['cyl_sign'], x['cyl']), axis=1)\n",
    "\n",
    "df.columns = df.columns.str.strip()\n",
    "product_id.columns = product_id.columns.str.strip()\n",
    "merged_df = pd.merge(df, product_id[['product_name', 'id']], left_on='StuffMainGroupName', right_on='product_name', how='left')\n",
    "merged_df.to_csv('merged_df.csv', index=False,encoding='utf-8')"
   ]
  },
  {
   "cell_type": "code",
   "execution_count": 4,
   "id": "97985570-8994-4ea6-b1c6-d51db752de34",
   "metadata": {},
   "outputs": [],
   "source": [
    "# Strip whitespace from 'sphere' and 'cylinder' columns\n",
    "merged_df['sphere'] = merged_df['sphere'].astype(str).str.strip()\n",
    "merged_df['cylinder'] = merged_df['cylinder'].astype(str).str.strip()\n",
    "\n",
    "# Drop specified columns\n",
    "merged_df.to_csv('merged_df_complete.csv', index=False, encoding='utf-8')\n",
    "merged_df = merged_df.drop(['StuffModel', 'code', 'sph_sign', 'sph', 'cyl_sign', 'cyl'], axis=1)\n",
    "\n",
    "\n",
    "# Remove duplicates\n",
    "merged_df = merged_df.drop_duplicates()\n",
    "\n",
    "# Save to CSV\n",
    "merged_df.to_csv('merged_df.csv', index=False, encoding='utf-8')\n"
   ]
  }
 ],
 "metadata": {
  "kernelspec": {
   "display_name": "Python 3 (ipykernel)",
   "language": "python",
   "name": "python3"
  },
  "language_info": {
   "codemirror_mode": {
    "name": "ipython",
    "version": 3
   },
   "file_extension": ".py",
   "mimetype": "text/x-python",
   "name": "python",
   "nbconvert_exporter": "python",
   "pygments_lexer": "ipython3",
   "version": "3.12.7"
  }
 },
 "nbformat": 4,
 "nbformat_minor": 5
}
